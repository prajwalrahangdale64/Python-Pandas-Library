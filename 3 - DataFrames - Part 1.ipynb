{
 "cells": [
  {
   "cell_type": "markdown",
   "id": "dd1e5456-f988-4b5c-8a89-8c6d809d3587",
   "metadata": {},
   "source": [
    "# <u>DataFrames.\n",
    "\n",
    "DataFrames are the workhorse of pandas and are directly inspired by the R programming language. We can think of a DataFrame as a bunch of Series objects put together to share the same index. Let's use pandas to explore this topic!"
   ]
  },
  {
   "cell_type": "markdown",
   "id": "20448a3c-9fb5-4e65-ad82-5c29c59c7d14",
   "metadata": {},
   "source": [
    "# <u>Definition:\n",
    "\n",
    "    We can think of a DataFrame as a bunch of Series objects put together to share the same index."
   ]
  },
  {
   "cell_type": "markdown",
   "id": "73abbd89-26dd-4b23-afc6-c1ea6a907faa",
   "metadata": {},
   "source": [
    "---"
   ]
  },
  {
   "cell_type": "markdown",
   "id": "c846ff8a-77dd-4fb6-95aa-5907882a549e",
   "metadata": {},
   "source": [
    "# <u>Imports."
   ]
  },
  {
   "cell_type": "code",
   "execution_count": 5,
   "id": "73dcfac2-ad61-4a56-ab07-9d1ab38b91a9",
   "metadata": {},
   "outputs": [],
   "source": [
    "import pandas as pd\n",
    "import numpy as np"
   ]
  },
  {
   "cell_type": "code",
   "execution_count": 6,
   "id": "fed4b3a1-7ff1-47a8-a73d-861ca1016894",
   "metadata": {},
   "outputs": [],
   "source": [
    "from numpy.random import randn"
   ]
  },
  {
   "cell_type": "markdown",
   "id": "e08cc8b6-79e4-4671-88ae-b69fbddcbf1f",
   "metadata": {},
   "source": [
    "#### What is a seed?\n",
    "\n",
    "    - A seed is a starting point for generating a sequence of pseudo-random numbers.\n",
    "    - Computers don’t generate truly random numbers, they use algorithms that produce a sequence that looks random — hence, pseudo-random.\n",
    "    - This sequence is entirely determined by the seed.\n",
    "    - Always run the np.random.seed(value) in the same cell as the np.random.rand(shape) / any random value generater. Or we must run np.random.seed(value) before generating random numbers."
   ]
  },
  {
   "cell_type": "code",
   "execution_count": 8,
   "id": "38e5e863-6ec7-468b-887d-ba8d5a22da18",
   "metadata": {},
   "outputs": [],
   "source": [
    "np.random.seed(101)"
   ]
  },
  {
   "cell_type": "code",
   "execution_count": 9,
   "id": "4d586aba-a5fe-4576-9495-29a178e15be8",
   "metadata": {},
   "outputs": [
    {
     "name": "stdout",
     "output_type": "stream",
     "text": [
      "[0.51639863 0.57066759 0.02847423]\n",
      "[0.17152166 0.68527698 0.83389686]\n",
      "[0.30696622 0.89361308 0.72154386]\n",
      "[0.18993895 0.55422759 0.35213195]\n",
      "[0.1818924  0.78560176 0.96548322]\n"
     ]
    }
   ],
   "source": [
    "# Using print() to display every value.\n",
    "\n",
    "print(np.random.rand(3))\n",
    "print(np.random.rand(3))\n",
    "print(np.random.rand(3))\n",
    "print(np.random.rand(3))\n",
    "print(np.random.rand(3))"
   ]
  },
  {
   "cell_type": "markdown",
   "id": "f8e7aebd-a64b-40c2-9769-8f077f387c3b",
   "metadata": {},
   "source": [
    "- <u>NOTE:\n",
    "\n",
    "    - If we keep running the above two cells in order i.e np.random.seed(101) first and the print statements later we would get the same random numbers."
   ]
  },
  {
   "cell_type": "code",
   "execution_count": 11,
   "id": "f4e37f3c-815b-4729-9003-6dec1ce6d1ba",
   "metadata": {},
   "outputs": [
    {
     "name": "stdout",
     "output_type": "stream",
     "text": [
      "[0.23235366 0.08356143 0.60354842]\n",
      "[0.72899276 0.27623883 0.68530633]\n",
      "[0.51786747 0.04848454 0.13786924]\n",
      "[0.18696743 0.9943179  0.5206654 ]\n",
      "[0.57878954 0.73481906 0.54196177]\n"
     ]
    }
   ],
   "source": [
    "# Seed resets.\n",
    "\n",
    "print(np.random.rand(3))\n",
    "print(np.random.rand(3))\n",
    "print(np.random.rand(3))\n",
    "print(np.random.rand(3))\n",
    "print(np.random.rand(3))"
   ]
  },
  {
   "cell_type": "code",
   "execution_count": 12,
   "id": "616d1c49-80ea-4351-ac76-a883f54382a0",
   "metadata": {},
   "outputs": [
    {
     "name": "stdout",
     "output_type": "stream",
     "text": [
      "[0.51639863 0.57066759 0.02847423]\n",
      "[0.17152166 0.68527698 0.83389686]\n",
      "[0.30696622 0.89361308 0.72154386]\n",
      "[0.18993895 0.55422759 0.35213195]\n",
      "[0.1818924  0.78560176 0.96548322]\n"
     ]
    }
   ],
   "source": [
    "# OR we could run np.random.seed(101) in the same cells as the print statements.\n",
    "# Preferred method.\n",
    "\n",
    "np.random.seed(101)\n",
    "print(np.random.rand(3))\n",
    "print(np.random.rand(3))\n",
    "print(np.random.rand(3))\n",
    "print(np.random.rand(3))\n",
    "print(np.random.rand(3))"
   ]
  },
  {
   "cell_type": "code",
   "execution_count": 13,
   "id": "07a389e7-e340-439b-b9e4-6f96885956ed",
   "metadata": {},
   "outputs": [
    {
     "name": "stdout",
     "output_type": "stream",
     "text": [
      "[0.51639863 0.57066759 0.02847423]\n",
      "[0.17152166 0.68527698 0.83389686]\n",
      "[0.30696622 0.89361308 0.72154386]\n",
      "[0.18993895 0.55422759 0.35213195]\n",
      "[0.1818924  0.78560176 0.96548322]\n"
     ]
    }
   ],
   "source": [
    "np.random.seed(101)\n",
    "print(np.random.rand(3))\n",
    "print(np.random.rand(3))\n",
    "print(np.random.rand(3))\n",
    "print(np.random.rand(3))\n",
    "print(np.random.rand(3))"
   ]
  },
  {
   "cell_type": "code",
   "execution_count": 14,
   "id": "2ae01f81-e179-4b5d-b7e3-bafc11fd71a7",
   "metadata": {},
   "outputs": [
    {
     "name": "stdout",
     "output_type": "stream",
     "text": [
      "[0.23235366 0.08356143 0.60354842]\n",
      "[0.72899276 0.27623883 0.68530633]\n",
      "[0.51786747 0.04848454 0.13786924]\n",
      "[0.18696743 0.9943179  0.5206654 ]\n",
      "[0.57878954 0.73481906 0.54196177]\n"
     ]
    }
   ],
   "source": [
    "# # Seed resets.\n",
    "\n",
    "print(np.random.rand(3))\n",
    "print(np.random.rand(3))\n",
    "print(np.random.rand(3))\n",
    "print(np.random.rand(3))\n",
    "print(np.random.rand(3))"
   ]
  },
  {
   "cell_type": "markdown",
   "id": "b797ec6a-364e-4ca7-a48e-ff3d8a7b4714",
   "metadata": {},
   "source": [
    "- <u>NOTE:\n",
    "\n",
    "    - We can reset the seed simply by calling np.random.seed()."
   ]
  },
  {
   "cell_type": "markdown",
   "id": "6788066e-3d75-40a5-a406-72e34ce658c8",
   "metadata": {},
   "source": [
    "---"
   ]
  },
  {
   "cell_type": "markdown",
   "id": "f9e882e1-d3e6-41a1-a8c2-c6094b78442a",
   "metadata": {},
   "source": [
    "# <u>Creating a DataFrame object."
   ]
  },
  {
   "cell_type": "markdown",
   "id": "af56e96c-e818-49e4-8522-898044af509a",
   "metadata": {},
   "source": [
    "#### DataFrame:\n",
    "\n",
    "    Think of it as a spreadsheet or an SQL table.\n",
    "    It's a data object — specifically, a 2-D labeled data structure provided by pandas.\n",
    "    We can think of a DataFrame as a bunch of Series objects put together to share the same index.\n",
    "    It’s made up of rows and columns."
   ]
  },
  {
   "cell_type": "code",
   "execution_count": 19,
   "id": "b8a50639-2f4c-469e-8f04-e721c5765fd0",
   "metadata": {},
   "outputs": [],
   "source": [
    "# We don't need to call np.random.randn as we already ran from numpy.random import randn\n",
    "\n",
    "df = pd.DataFrame(data = randn(5, 4), index = ['A', 'B', 'C', 'D', 'E'], columns = ['W', 'X', 'Y', 'Z'])"
   ]
  },
  {
   "cell_type": "markdown",
   "id": "8134fb7c-67b0-4c9f-83f7-ce0144ed4e19",
   "metadata": {},
   "source": [
    "- <u>NOTE:\n",
    "\n",
    "    - We have a data argument and an index argument just like we did for series but then we have this additional columns arguments."
   ]
  },
  {
   "cell_type": "code",
   "execution_count": 21,
   "id": "6ed174e6-5870-4d7b-a5bf-e5e43791d151",
   "metadata": {},
   "outputs": [],
   "source": [
    "# We could also use the .split()\n",
    "# df = pd.DataFrame(randn(5, 4), index = 'A B C D E'.split(), columns = 'W X Y Z'.split())"
   ]
  },
  {
   "cell_type": "code",
   "execution_count": 22,
   "id": "35ba68c9-8b6e-49b7-aecf-7ac6e8455181",
   "metadata": {},
   "outputs": [
    {
     "data": {
      "text/html": [
       "<div>\n",
       "<style scoped>\n",
       "    .dataframe tbody tr th:only-of-type {\n",
       "        vertical-align: middle;\n",
       "    }\n",
       "\n",
       "    .dataframe tbody tr th {\n",
       "        vertical-align: top;\n",
       "    }\n",
       "\n",
       "    .dataframe thead th {\n",
       "        text-align: right;\n",
       "    }\n",
       "</style>\n",
       "<table border=\"1\" class=\"dataframe\">\n",
       "  <thead>\n",
       "    <tr style=\"text-align: right;\">\n",
       "      <th></th>\n",
       "      <th>W</th>\n",
       "      <th>X</th>\n",
       "      <th>Y</th>\n",
       "      <th>Z</th>\n",
       "    </tr>\n",
       "  </thead>\n",
       "  <tbody>\n",
       "    <tr>\n",
       "      <th>A</th>\n",
       "      <td>-1.706086</td>\n",
       "      <td>-1.159119</td>\n",
       "      <td>-0.134841</td>\n",
       "      <td>0.390528</td>\n",
       "    </tr>\n",
       "    <tr>\n",
       "      <th>B</th>\n",
       "      <td>0.166905</td>\n",
       "      <td>0.184502</td>\n",
       "      <td>0.807706</td>\n",
       "      <td>0.072960</td>\n",
       "    </tr>\n",
       "    <tr>\n",
       "      <th>C</th>\n",
       "      <td>0.638787</td>\n",
       "      <td>0.329646</td>\n",
       "      <td>-0.497104</td>\n",
       "      <td>-0.754070</td>\n",
       "    </tr>\n",
       "    <tr>\n",
       "      <th>D</th>\n",
       "      <td>-0.943406</td>\n",
       "      <td>0.484752</td>\n",
       "      <td>-0.116773</td>\n",
       "      <td>1.901755</td>\n",
       "    </tr>\n",
       "    <tr>\n",
       "      <th>E</th>\n",
       "      <td>0.238127</td>\n",
       "      <td>1.996652</td>\n",
       "      <td>-0.993263</td>\n",
       "      <td>0.196800</td>\n",
       "    </tr>\n",
       "  </tbody>\n",
       "</table>\n",
       "</div>"
      ],
      "text/plain": [
       "          W         X         Y         Z\n",
       "A -1.706086 -1.159119 -0.134841  0.390528\n",
       "B  0.166905  0.184502  0.807706  0.072960\n",
       "C  0.638787  0.329646 -0.497104 -0.754070\n",
       "D -0.943406  0.484752 -0.116773  1.901755\n",
       "E  0.238127  1.996652 -0.993263  0.196800"
      ]
     },
     "execution_count": 22,
     "metadata": {},
     "output_type": "execute_result"
    }
   ],
   "source": [
    "df"
   ]
  },
  {
   "cell_type": "markdown",
   "id": "747b9994-4279-4698-9094-472a46165d88",
   "metadata": {},
   "source": [
    "- <u>NOTE:\n",
    "\n",
    "    - So basically what we have here is a list of columns.\n",
    "    - Now each of these columns is actually just a panda's series and and they all share a common index. (Ex: W is a column that share the same index(A,B,C,D,E) with other columns(X,Y,Z).)"
   ]
  },
  {
   "cell_type": "markdown",
   "id": "bfc7d426-98ca-4302-b490-6f167b79b908",
   "metadata": {},
   "source": [
    "---"
   ]
  },
  {
   "cell_type": "markdown",
   "id": "3eb6ba1a-c990-47f5-add8-7db8fddbab88",
   "metadata": {},
   "source": [
    "# <u>Selection and Indexing.\n",
    "\n",
    "Let's learn the various methods to grab data from a DataFrame:"
   ]
  },
  {
   "cell_type": "markdown",
   "id": "a3fa123b-ff37-4bb5-804f-e47a5a662551",
   "metadata": {},
   "source": [
    "1) <u>**To get a single column back.**"
   ]
  },
  {
   "cell_type": "code",
   "execution_count": 27,
   "id": "63174bed-ba6b-4ab1-b101-4d36ada7ed2d",
   "metadata": {},
   "outputs": [
    {
     "data": {
      "text/plain": [
       "A   -1.706086\n",
       "B    0.166905\n",
       "C    0.638787\n",
       "D   -0.943406\n",
       "E    0.238127\n",
       "Name: W, dtype: float64"
      ]
     },
     "execution_count": 27,
     "metadata": {},
     "output_type": "execute_result"
    }
   ],
   "source": [
    "# Passing in the column name.\n",
    "\n",
    "df['W']"
   ]
  },
  {
   "cell_type": "markdown",
   "id": "7e4a66e9-165d-4a68-840c-a6696538fba7",
   "metadata": {},
   "source": [
    "- <u>NOTE:\n",
    "\n",
    "    -  When I ask for a single column I'm actually getting back a series."
   ]
  },
  {
   "cell_type": "code",
   "execution_count": 29,
   "id": "2d2d34da-50a1-44d8-a147-1af124815c4a",
   "metadata": {},
   "outputs": [
    {
     "data": {
      "text/plain": [
       "pandas.core.series.Series"
      ]
     },
     "execution_count": 29,
     "metadata": {},
     "output_type": "execute_result"
    }
   ],
   "source": [
    "type(df['W'])"
   ]
  },
  {
   "cell_type": "code",
   "execution_count": 30,
   "id": "edce459d-e16d-403a-82e2-32334f478e92",
   "metadata": {},
   "outputs": [
    {
     "data": {
      "text/plain": [
       "pandas.core.frame.DataFrame"
      ]
     },
     "execution_count": 30,
     "metadata": {},
     "output_type": "execute_result"
    }
   ],
   "source": [
    "type(df)"
   ]
  },
  {
   "cell_type": "markdown",
   "id": "76b39080-495d-41e2-b4af-34a7d529b5d6",
   "metadata": {},
   "source": [
    "- <u>NOTE:\n",
    "\n",
    "    - Checking the type further reiterate that fact that DataFrame is a bunch of Series objects put together to share the same index."
   ]
  },
  {
   "cell_type": "code",
   "execution_count": 32,
   "id": "a2f0bbea-7179-491c-bebf-66e85490982e",
   "metadata": {},
   "outputs": [
    {
     "data": {
      "text/plain": [
       "A   -1.706086\n",
       "B    0.166905\n",
       "C    0.638787\n",
       "D   -0.943406\n",
       "E    0.238127\n",
       "Name: W, dtype: float64"
      ]
     },
     "execution_count": 32,
     "metadata": {},
     "output_type": "execute_result"
    }
   ],
   "source": [
    "# SQL Syntax (NOT RECOMMENDED!) (Table.column_name)\n",
    "\n",
    "df.W"
   ]
  },
  {
   "cell_type": "markdown",
   "id": "06c94134-0dd1-4905-9a6d-3d431133da21",
   "metadata": {},
   "source": [
    "- <u>NOTE:\n",
    "\n",
    "    - However we shoudn't use this because it may get confused with the various methods that are available off of the data frame.\n",
    "    - What may happen is that one of these methods gets overwritten by a column name and then Pandas is going to get confused whether we're asking for a method or an actual column name."
   ]
  },
  {
   "cell_type": "markdown",
   "id": "e71e4a1a-7c9d-4a11-b976-fdd2ac487d29",
   "metadata": {},
   "source": [
    "2) <u>**To get a multiple columns back.**"
   ]
  },
  {
   "cell_type": "code",
   "execution_count": 35,
   "id": "d634aaa8-5486-4f57-b606-81e5c0febaa1",
   "metadata": {},
   "outputs": [
    {
     "data": {
      "text/html": [
       "<div>\n",
       "<style scoped>\n",
       "    .dataframe tbody tr th:only-of-type {\n",
       "        vertical-align: middle;\n",
       "    }\n",
       "\n",
       "    .dataframe tbody tr th {\n",
       "        vertical-align: top;\n",
       "    }\n",
       "\n",
       "    .dataframe thead th {\n",
       "        text-align: right;\n",
       "    }\n",
       "</style>\n",
       "<table border=\"1\" class=\"dataframe\">\n",
       "  <thead>\n",
       "    <tr style=\"text-align: right;\">\n",
       "      <th></th>\n",
       "      <th>W</th>\n",
       "      <th>Z</th>\n",
       "    </tr>\n",
       "  </thead>\n",
       "  <tbody>\n",
       "    <tr>\n",
       "      <th>A</th>\n",
       "      <td>-1.706086</td>\n",
       "      <td>0.390528</td>\n",
       "    </tr>\n",
       "    <tr>\n",
       "      <th>B</th>\n",
       "      <td>0.166905</td>\n",
       "      <td>0.072960</td>\n",
       "    </tr>\n",
       "    <tr>\n",
       "      <th>C</th>\n",
       "      <td>0.638787</td>\n",
       "      <td>-0.754070</td>\n",
       "    </tr>\n",
       "    <tr>\n",
       "      <th>D</th>\n",
       "      <td>-0.943406</td>\n",
       "      <td>1.901755</td>\n",
       "    </tr>\n",
       "    <tr>\n",
       "      <th>E</th>\n",
       "      <td>0.238127</td>\n",
       "      <td>0.196800</td>\n",
       "    </tr>\n",
       "  </tbody>\n",
       "</table>\n",
       "</div>"
      ],
      "text/plain": [
       "          W         Z\n",
       "A -1.706086  0.390528\n",
       "B  0.166905  0.072960\n",
       "C  0.638787 -0.754070\n",
       "D -0.943406  1.901755\n",
       "E  0.238127  0.196800"
      ]
     },
     "execution_count": 35,
     "metadata": {},
     "output_type": "execute_result"
    }
   ],
   "source": [
    "# Passing in the columns as a list.\n",
    "\n",
    "df[['W', 'Z']]"
   ]
  },
  {
   "cell_type": "markdown",
   "id": "2a27248d-8929-4d64-8ce6-03fb322839be",
   "metadata": {},
   "source": [
    "- <u>NOTE:\n",
    "\n",
    "    - When I ask for multiple columns I'm actually getting back a DataFrame."
   ]
  },
  {
   "cell_type": "markdown",
   "id": "4bf1e2ab-54b4-40bd-a869-052d45522990",
   "metadata": {},
   "source": [
    "3. <u>**Creating a new column:**"
   ]
  },
  {
   "cell_type": "code",
   "execution_count": 38,
   "id": "43965f05-294e-4028-8ba0-86a30beab401",
   "metadata": {},
   "outputs": [],
   "source": [
    "# KeyError: 'new'\n",
    "# df['new']"
   ]
  },
  {
   "cell_type": "code",
   "execution_count": 39,
   "id": "2a41fa80-bff8-4a77-aa5c-d9c98e74f963",
   "metadata": {},
   "outputs": [],
   "source": [
    "# NOTE: It's just like in an excel sheet.\n",
    "# Adding two columns to create a new one.\n",
    "\n",
    "df['new'] = df['W'] + df['Y']"
   ]
  },
  {
   "cell_type": "code",
   "execution_count": 40,
   "id": "a06f136f-4ba8-4a26-a1aa-5f105e0d89f8",
   "metadata": {},
   "outputs": [
    {
     "data": {
      "text/html": [
       "<div>\n",
       "<style scoped>\n",
       "    .dataframe tbody tr th:only-of-type {\n",
       "        vertical-align: middle;\n",
       "    }\n",
       "\n",
       "    .dataframe tbody tr th {\n",
       "        vertical-align: top;\n",
       "    }\n",
       "\n",
       "    .dataframe thead th {\n",
       "        text-align: right;\n",
       "    }\n",
       "</style>\n",
       "<table border=\"1\" class=\"dataframe\">\n",
       "  <thead>\n",
       "    <tr style=\"text-align: right;\">\n",
       "      <th></th>\n",
       "      <th>W</th>\n",
       "      <th>X</th>\n",
       "      <th>Y</th>\n",
       "      <th>Z</th>\n",
       "      <th>new</th>\n",
       "    </tr>\n",
       "  </thead>\n",
       "  <tbody>\n",
       "    <tr>\n",
       "      <th>A</th>\n",
       "      <td>-1.706086</td>\n",
       "      <td>-1.159119</td>\n",
       "      <td>-0.134841</td>\n",
       "      <td>0.390528</td>\n",
       "      <td>-1.840927</td>\n",
       "    </tr>\n",
       "    <tr>\n",
       "      <th>B</th>\n",
       "      <td>0.166905</td>\n",
       "      <td>0.184502</td>\n",
       "      <td>0.807706</td>\n",
       "      <td>0.072960</td>\n",
       "      <td>0.974611</td>\n",
       "    </tr>\n",
       "    <tr>\n",
       "      <th>C</th>\n",
       "      <td>0.638787</td>\n",
       "      <td>0.329646</td>\n",
       "      <td>-0.497104</td>\n",
       "      <td>-0.754070</td>\n",
       "      <td>0.141683</td>\n",
       "    </tr>\n",
       "    <tr>\n",
       "      <th>D</th>\n",
       "      <td>-0.943406</td>\n",
       "      <td>0.484752</td>\n",
       "      <td>-0.116773</td>\n",
       "      <td>1.901755</td>\n",
       "      <td>-1.060180</td>\n",
       "    </tr>\n",
       "    <tr>\n",
       "      <th>E</th>\n",
       "      <td>0.238127</td>\n",
       "      <td>1.996652</td>\n",
       "      <td>-0.993263</td>\n",
       "      <td>0.196800</td>\n",
       "      <td>-0.755137</td>\n",
       "    </tr>\n",
       "  </tbody>\n",
       "</table>\n",
       "</div>"
      ],
      "text/plain": [
       "          W         X         Y         Z       new\n",
       "A -1.706086 -1.159119 -0.134841  0.390528 -1.840927\n",
       "B  0.166905  0.184502  0.807706  0.072960  0.974611\n",
       "C  0.638787  0.329646 -0.497104 -0.754070  0.141683\n",
       "D -0.943406  0.484752 -0.116773  1.901755 -1.060180\n",
       "E  0.238127  1.996652 -0.993263  0.196800 -0.755137"
      ]
     },
     "execution_count": 40,
     "metadata": {},
     "output_type": "execute_result"
    }
   ],
   "source": [
    "df"
   ]
  },
  {
   "cell_type": "markdown",
   "id": "5b780906-c27d-4737-b575-b2681b820531",
   "metadata": {},
   "source": [
    "4. <u>**Removing Columns:**"
   ]
  },
  {
   "cell_type": "code",
   "execution_count": 42,
   "id": "2fe2ac13-bf29-4b47-8c3c-ff4fa493d0ac",
   "metadata": {},
   "outputs": [],
   "source": [
    "# KeyError: \"['new'] not found in axis\"\n",
    "\n",
    "# df.drop('new')"
   ]
  },
  {
   "cell_type": "markdown",
   "id": "bfbbfdf8-c9f6-485c-955c-65df252bfdba",
   "metadata": {},
   "source": [
    "- <u>Syntax: df.drop(labels, axis = 0, inplace = False)\n",
    "\n",
    "    - axis = 0 refers to index / rows.\n",
    "    - axis = 1 refers to columns."
   ]
  },
  {
   "cell_type": "code",
   "execution_count": 44,
   "id": "e144e6af-a2b8-4e08-9f32-cd40807124df",
   "metadata": {},
   "outputs": [
    {
     "data": {
      "text/html": [
       "<div>\n",
       "<style scoped>\n",
       "    .dataframe tbody tr th:only-of-type {\n",
       "        vertical-align: middle;\n",
       "    }\n",
       "\n",
       "    .dataframe tbody tr th {\n",
       "        vertical-align: top;\n",
       "    }\n",
       "\n",
       "    .dataframe thead th {\n",
       "        text-align: right;\n",
       "    }\n",
       "</style>\n",
       "<table border=\"1\" class=\"dataframe\">\n",
       "  <thead>\n",
       "    <tr style=\"text-align: right;\">\n",
       "      <th></th>\n",
       "      <th>W</th>\n",
       "      <th>X</th>\n",
       "      <th>Y</th>\n",
       "      <th>Z</th>\n",
       "    </tr>\n",
       "  </thead>\n",
       "  <tbody>\n",
       "    <tr>\n",
       "      <th>A</th>\n",
       "      <td>-1.706086</td>\n",
       "      <td>-1.159119</td>\n",
       "      <td>-0.134841</td>\n",
       "      <td>0.390528</td>\n",
       "    </tr>\n",
       "    <tr>\n",
       "      <th>B</th>\n",
       "      <td>0.166905</td>\n",
       "      <td>0.184502</td>\n",
       "      <td>0.807706</td>\n",
       "      <td>0.072960</td>\n",
       "    </tr>\n",
       "    <tr>\n",
       "      <th>C</th>\n",
       "      <td>0.638787</td>\n",
       "      <td>0.329646</td>\n",
       "      <td>-0.497104</td>\n",
       "      <td>-0.754070</td>\n",
       "    </tr>\n",
       "    <tr>\n",
       "      <th>D</th>\n",
       "      <td>-0.943406</td>\n",
       "      <td>0.484752</td>\n",
       "      <td>-0.116773</td>\n",
       "      <td>1.901755</td>\n",
       "    </tr>\n",
       "    <tr>\n",
       "      <th>E</th>\n",
       "      <td>0.238127</td>\n",
       "      <td>1.996652</td>\n",
       "      <td>-0.993263</td>\n",
       "      <td>0.196800</td>\n",
       "    </tr>\n",
       "  </tbody>\n",
       "</table>\n",
       "</div>"
      ],
      "text/plain": [
       "          W         X         Y         Z\n",
       "A -1.706086 -1.159119 -0.134841  0.390528\n",
       "B  0.166905  0.184502  0.807706  0.072960\n",
       "C  0.638787  0.329646 -0.497104 -0.754070\n",
       "D -0.943406  0.484752 -0.116773  1.901755\n",
       "E  0.238127  1.996652 -0.993263  0.196800"
      ]
     },
     "execution_count": 44,
     "metadata": {},
     "output_type": "execute_result"
    }
   ],
   "source": [
    "df.drop('new', axis = 1)"
   ]
  },
  {
   "cell_type": "code",
   "execution_count": 45,
   "id": "9b2f1388-225f-4c3b-b81e-1d98172933c2",
   "metadata": {},
   "outputs": [
    {
     "data": {
      "text/html": [
       "<div>\n",
       "<style scoped>\n",
       "    .dataframe tbody tr th:only-of-type {\n",
       "        vertical-align: middle;\n",
       "    }\n",
       "\n",
       "    .dataframe tbody tr th {\n",
       "        vertical-align: top;\n",
       "    }\n",
       "\n",
       "    .dataframe thead th {\n",
       "        text-align: right;\n",
       "    }\n",
       "</style>\n",
       "<table border=\"1\" class=\"dataframe\">\n",
       "  <thead>\n",
       "    <tr style=\"text-align: right;\">\n",
       "      <th></th>\n",
       "      <th>W</th>\n",
       "      <th>X</th>\n",
       "      <th>Y</th>\n",
       "      <th>Z</th>\n",
       "      <th>new</th>\n",
       "    </tr>\n",
       "  </thead>\n",
       "  <tbody>\n",
       "    <tr>\n",
       "      <th>A</th>\n",
       "      <td>-1.706086</td>\n",
       "      <td>-1.159119</td>\n",
       "      <td>-0.134841</td>\n",
       "      <td>0.390528</td>\n",
       "      <td>-1.840927</td>\n",
       "    </tr>\n",
       "    <tr>\n",
       "      <th>B</th>\n",
       "      <td>0.166905</td>\n",
       "      <td>0.184502</td>\n",
       "      <td>0.807706</td>\n",
       "      <td>0.072960</td>\n",
       "      <td>0.974611</td>\n",
       "    </tr>\n",
       "    <tr>\n",
       "      <th>C</th>\n",
       "      <td>0.638787</td>\n",
       "      <td>0.329646</td>\n",
       "      <td>-0.497104</td>\n",
       "      <td>-0.754070</td>\n",
       "      <td>0.141683</td>\n",
       "    </tr>\n",
       "    <tr>\n",
       "      <th>D</th>\n",
       "      <td>-0.943406</td>\n",
       "      <td>0.484752</td>\n",
       "      <td>-0.116773</td>\n",
       "      <td>1.901755</td>\n",
       "      <td>-1.060180</td>\n",
       "    </tr>\n",
       "    <tr>\n",
       "      <th>E</th>\n",
       "      <td>0.238127</td>\n",
       "      <td>1.996652</td>\n",
       "      <td>-0.993263</td>\n",
       "      <td>0.196800</td>\n",
       "      <td>-0.755137</td>\n",
       "    </tr>\n",
       "  </tbody>\n",
       "</table>\n",
       "</div>"
      ],
      "text/plain": [
       "          W         X         Y         Z       new\n",
       "A -1.706086 -1.159119 -0.134841  0.390528 -1.840927\n",
       "B  0.166905  0.184502  0.807706  0.072960  0.974611\n",
       "C  0.638787  0.329646 -0.497104 -0.754070  0.141683\n",
       "D -0.943406  0.484752 -0.116773  1.901755 -1.060180\n",
       "E  0.238127  1.996652 -0.993263  0.196800 -0.755137"
      ]
     },
     "execution_count": 45,
     "metadata": {},
     "output_type": "execute_result"
    }
   ],
   "source": [
    "# Does not affect the DataFrame object unless we use the inplace argument.\n",
    "\n",
    "df"
   ]
  },
  {
   "cell_type": "markdown",
   "id": "a9c7268e-91a2-4f2a-b12a-e31f8e8a8288",
   "metadata": {},
   "source": [
    "- <u>NOTE:\n",
    "\n",
    "    - Many Pandas methods will require this inplace argument to be set to True. And the reason Pandas does this is to ensure we do not accidentally lose information."
   ]
  },
  {
   "cell_type": "code",
   "execution_count": 47,
   "id": "0475073d-f6c9-45c0-a261-ed6b401149a2",
   "metadata": {},
   "outputs": [],
   "source": [
    "df.drop('new', axis = 1, inplace = True)"
   ]
  },
  {
   "cell_type": "code",
   "execution_count": 48,
   "id": "8472fea3-b270-4baa-8ad5-abd5633f2a54",
   "metadata": {},
   "outputs": [
    {
     "data": {
      "text/html": [
       "<div>\n",
       "<style scoped>\n",
       "    .dataframe tbody tr th:only-of-type {\n",
       "        vertical-align: middle;\n",
       "    }\n",
       "\n",
       "    .dataframe tbody tr th {\n",
       "        vertical-align: top;\n",
       "    }\n",
       "\n",
       "    .dataframe thead th {\n",
       "        text-align: right;\n",
       "    }\n",
       "</style>\n",
       "<table border=\"1\" class=\"dataframe\">\n",
       "  <thead>\n",
       "    <tr style=\"text-align: right;\">\n",
       "      <th></th>\n",
       "      <th>W</th>\n",
       "      <th>X</th>\n",
       "      <th>Y</th>\n",
       "      <th>Z</th>\n",
       "    </tr>\n",
       "  </thead>\n",
       "  <tbody>\n",
       "    <tr>\n",
       "      <th>A</th>\n",
       "      <td>-1.706086</td>\n",
       "      <td>-1.159119</td>\n",
       "      <td>-0.134841</td>\n",
       "      <td>0.390528</td>\n",
       "    </tr>\n",
       "    <tr>\n",
       "      <th>B</th>\n",
       "      <td>0.166905</td>\n",
       "      <td>0.184502</td>\n",
       "      <td>0.807706</td>\n",
       "      <td>0.072960</td>\n",
       "    </tr>\n",
       "    <tr>\n",
       "      <th>C</th>\n",
       "      <td>0.638787</td>\n",
       "      <td>0.329646</td>\n",
       "      <td>-0.497104</td>\n",
       "      <td>-0.754070</td>\n",
       "    </tr>\n",
       "    <tr>\n",
       "      <th>D</th>\n",
       "      <td>-0.943406</td>\n",
       "      <td>0.484752</td>\n",
       "      <td>-0.116773</td>\n",
       "      <td>1.901755</td>\n",
       "    </tr>\n",
       "    <tr>\n",
       "      <th>E</th>\n",
       "      <td>0.238127</td>\n",
       "      <td>1.996652</td>\n",
       "      <td>-0.993263</td>\n",
       "      <td>0.196800</td>\n",
       "    </tr>\n",
       "  </tbody>\n",
       "</table>\n",
       "</div>"
      ],
      "text/plain": [
       "          W         X         Y         Z\n",
       "A -1.706086 -1.159119 -0.134841  0.390528\n",
       "B  0.166905  0.184502  0.807706  0.072960\n",
       "C  0.638787  0.329646 -0.497104 -0.754070\n",
       "D -0.943406  0.484752 -0.116773  1.901755\n",
       "E  0.238127  1.996652 -0.993263  0.196800"
      ]
     },
     "execution_count": 48,
     "metadata": {},
     "output_type": "execute_result"
    }
   ],
   "source": [
    "df"
   ]
  },
  {
   "cell_type": "markdown",
   "id": "62e495a8-9fcf-4b28-b57d-a9a0256122d2",
   "metadata": {},
   "source": [
    "- Can also drop rows this way:"
   ]
  },
  {
   "cell_type": "code",
   "execution_count": 50,
   "id": "f2bdd3d8-cea6-4cd3-9b25-df6763465610",
   "metadata": {},
   "outputs": [
    {
     "data": {
      "text/html": [
       "<div>\n",
       "<style scoped>\n",
       "    .dataframe tbody tr th:only-of-type {\n",
       "        vertical-align: middle;\n",
       "    }\n",
       "\n",
       "    .dataframe tbody tr th {\n",
       "        vertical-align: top;\n",
       "    }\n",
       "\n",
       "    .dataframe thead th {\n",
       "        text-align: right;\n",
       "    }\n",
       "</style>\n",
       "<table border=\"1\" class=\"dataframe\">\n",
       "  <thead>\n",
       "    <tr style=\"text-align: right;\">\n",
       "      <th></th>\n",
       "      <th>W</th>\n",
       "      <th>X</th>\n",
       "      <th>Y</th>\n",
       "      <th>Z</th>\n",
       "    </tr>\n",
       "  </thead>\n",
       "  <tbody>\n",
       "    <tr>\n",
       "      <th>A</th>\n",
       "      <td>-1.706086</td>\n",
       "      <td>-1.159119</td>\n",
       "      <td>-0.134841</td>\n",
       "      <td>0.390528</td>\n",
       "    </tr>\n",
       "    <tr>\n",
       "      <th>B</th>\n",
       "      <td>0.166905</td>\n",
       "      <td>0.184502</td>\n",
       "      <td>0.807706</td>\n",
       "      <td>0.072960</td>\n",
       "    </tr>\n",
       "    <tr>\n",
       "      <th>C</th>\n",
       "      <td>0.638787</td>\n",
       "      <td>0.329646</td>\n",
       "      <td>-0.497104</td>\n",
       "      <td>-0.754070</td>\n",
       "    </tr>\n",
       "    <tr>\n",
       "      <th>D</th>\n",
       "      <td>-0.943406</td>\n",
       "      <td>0.484752</td>\n",
       "      <td>-0.116773</td>\n",
       "      <td>1.901755</td>\n",
       "    </tr>\n",
       "  </tbody>\n",
       "</table>\n",
       "</div>"
      ],
      "text/plain": [
       "          W         X         Y         Z\n",
       "A -1.706086 -1.159119 -0.134841  0.390528\n",
       "B  0.166905  0.184502  0.807706  0.072960\n",
       "C  0.638787  0.329646 -0.497104 -0.754070\n",
       "D -0.943406  0.484752 -0.116773  1.901755"
      ]
     },
     "execution_count": 50,
     "metadata": {},
     "output_type": "execute_result"
    }
   ],
   "source": [
    "# inplace = False\n",
    "\n",
    "df.drop('E', axis = 0, inplace = False)\n",
    "# OR df.drop('E')"
   ]
  },
  {
   "cell_type": "code",
   "execution_count": 51,
   "id": "2e787c26-0cb2-467d-8ac6-fb62480976d0",
   "metadata": {},
   "outputs": [
    {
     "data": {
      "text/html": [
       "<div>\n",
       "<style scoped>\n",
       "    .dataframe tbody tr th:only-of-type {\n",
       "        vertical-align: middle;\n",
       "    }\n",
       "\n",
       "    .dataframe tbody tr th {\n",
       "        vertical-align: top;\n",
       "    }\n",
       "\n",
       "    .dataframe thead th {\n",
       "        text-align: right;\n",
       "    }\n",
       "</style>\n",
       "<table border=\"1\" class=\"dataframe\">\n",
       "  <thead>\n",
       "    <tr style=\"text-align: right;\">\n",
       "      <th></th>\n",
       "      <th>W</th>\n",
       "      <th>X</th>\n",
       "      <th>Y</th>\n",
       "      <th>Z</th>\n",
       "    </tr>\n",
       "  </thead>\n",
       "  <tbody>\n",
       "    <tr>\n",
       "      <th>A</th>\n",
       "      <td>-1.706086</td>\n",
       "      <td>-1.159119</td>\n",
       "      <td>-0.134841</td>\n",
       "      <td>0.390528</td>\n",
       "    </tr>\n",
       "    <tr>\n",
       "      <th>B</th>\n",
       "      <td>0.166905</td>\n",
       "      <td>0.184502</td>\n",
       "      <td>0.807706</td>\n",
       "      <td>0.072960</td>\n",
       "    </tr>\n",
       "    <tr>\n",
       "      <th>C</th>\n",
       "      <td>0.638787</td>\n",
       "      <td>0.329646</td>\n",
       "      <td>-0.497104</td>\n",
       "      <td>-0.754070</td>\n",
       "    </tr>\n",
       "    <tr>\n",
       "      <th>D</th>\n",
       "      <td>-0.943406</td>\n",
       "      <td>0.484752</td>\n",
       "      <td>-0.116773</td>\n",
       "      <td>1.901755</td>\n",
       "    </tr>\n",
       "    <tr>\n",
       "      <th>E</th>\n",
       "      <td>0.238127</td>\n",
       "      <td>1.996652</td>\n",
       "      <td>-0.993263</td>\n",
       "      <td>0.196800</td>\n",
       "    </tr>\n",
       "  </tbody>\n",
       "</table>\n",
       "</div>"
      ],
      "text/plain": [
       "          W         X         Y         Z\n",
       "A -1.706086 -1.159119 -0.134841  0.390528\n",
       "B  0.166905  0.184502  0.807706  0.072960\n",
       "C  0.638787  0.329646 -0.497104 -0.754070\n",
       "D -0.943406  0.484752 -0.116773  1.901755\n",
       "E  0.238127  1.996652 -0.993263  0.196800"
      ]
     },
     "execution_count": 51,
     "metadata": {},
     "output_type": "execute_result"
    }
   ],
   "source": [
    "df"
   ]
  },
  {
   "cell_type": "markdown",
   "id": "de4bf960-0f2a-4977-9e85-d6e198a97511",
   "metadata": {},
   "source": [
    "- <u>NOTE:\n",
    "\n",
    "    - Why are the rows 0 for axis and why are the columns 1?\n",
    "    - Ans: The reference actually comes back to NumPy. Since DataFrames are essentially just fancy index markers on top of a NumPy array.\n",
    "    - To show this:"
   ]
  },
  {
   "cell_type": "code",
   "execution_count": 53,
   "id": "0a1fb626-6840-44f2-b18e-ea249f5e8e51",
   "metadata": {},
   "outputs": [
    {
     "data": {
      "text/plain": [
       "(5, 4)"
      ]
     },
     "execution_count": 53,
     "metadata": {},
     "output_type": "execute_result"
    }
   ],
   "source": [
    "# 5 rows and 4 columns.\n",
    "# 2-D array (Matrix).\n",
    "\n",
    "df.shape"
   ]
  },
  {
   "cell_type": "markdown",
   "id": "7e8fb5c4-45ac-479c-9de3-b690579b20db",
   "metadata": {},
   "source": [
    "- <u>NOTE:\n",
    "\n",
    "    - Which is why rows are referred to as the 0 axis and columns are referred to as the 1 axis because it's directly taken from the shape just as we would have in a NumPy array."
   ]
  },
  {
   "cell_type": "markdown",
   "id": "67363694-be5c-4d94-957b-c050677a26ae",
   "metadata": {},
   "source": [
    "5. <u>**To get a single Row back:**\n",
    "\n",
    "        There are two methods we can choose from:\n",
    "            1. loc:\n",
    "                loc stands for location.\n",
    "                Syntax: loc[index_label]\n",
    "                Notice that this method uses [] instead of (), it's just how it works with Pandas. \n",
    "            2. iloc:\n",
    "                Grabs rows based on the index location.\n",
    "                Syntax: iloc[index]"
   ]
  },
  {
   "cell_type": "code",
   "execution_count": 56,
   "id": "3bd4a7b4-8cd5-4060-ab63-3910382054c2",
   "metadata": {},
   "outputs": [
    {
     "data": {
      "text/html": [
       "<div>\n",
       "<style scoped>\n",
       "    .dataframe tbody tr th:only-of-type {\n",
       "        vertical-align: middle;\n",
       "    }\n",
       "\n",
       "    .dataframe tbody tr th {\n",
       "        vertical-align: top;\n",
       "    }\n",
       "\n",
       "    .dataframe thead th {\n",
       "        text-align: right;\n",
       "    }\n",
       "</style>\n",
       "<table border=\"1\" class=\"dataframe\">\n",
       "  <thead>\n",
       "    <tr style=\"text-align: right;\">\n",
       "      <th></th>\n",
       "      <th>W</th>\n",
       "      <th>X</th>\n",
       "      <th>Y</th>\n",
       "      <th>Z</th>\n",
       "    </tr>\n",
       "  </thead>\n",
       "  <tbody>\n",
       "    <tr>\n",
       "      <th>A</th>\n",
       "      <td>-1.706086</td>\n",
       "      <td>-1.159119</td>\n",
       "      <td>-0.134841</td>\n",
       "      <td>0.390528</td>\n",
       "    </tr>\n",
       "    <tr>\n",
       "      <th>B</th>\n",
       "      <td>0.166905</td>\n",
       "      <td>0.184502</td>\n",
       "      <td>0.807706</td>\n",
       "      <td>0.072960</td>\n",
       "    </tr>\n",
       "    <tr>\n",
       "      <th>C</th>\n",
       "      <td>0.638787</td>\n",
       "      <td>0.329646</td>\n",
       "      <td>-0.497104</td>\n",
       "      <td>-0.754070</td>\n",
       "    </tr>\n",
       "    <tr>\n",
       "      <th>D</th>\n",
       "      <td>-0.943406</td>\n",
       "      <td>0.484752</td>\n",
       "      <td>-0.116773</td>\n",
       "      <td>1.901755</td>\n",
       "    </tr>\n",
       "    <tr>\n",
       "      <th>E</th>\n",
       "      <td>0.238127</td>\n",
       "      <td>1.996652</td>\n",
       "      <td>-0.993263</td>\n",
       "      <td>0.196800</td>\n",
       "    </tr>\n",
       "  </tbody>\n",
       "</table>\n",
       "</div>"
      ],
      "text/plain": [
       "          W         X         Y         Z\n",
       "A -1.706086 -1.159119 -0.134841  0.390528\n",
       "B  0.166905  0.184502  0.807706  0.072960\n",
       "C  0.638787  0.329646 -0.497104 -0.754070\n",
       "D -0.943406  0.484752 -0.116773  1.901755\n",
       "E  0.238127  1.996652 -0.993263  0.196800"
      ]
     },
     "execution_count": 56,
     "metadata": {},
     "output_type": "execute_result"
    }
   ],
   "source": [
    "df"
   ]
  },
  {
   "cell_type": "code",
   "execution_count": 57,
   "id": "0e9da352-1423-4e76-892c-7e306e2a7e4f",
   "metadata": {},
   "outputs": [
    {
     "data": {
      "text/plain": [
       "W   -1.706086\n",
       "X   -1.159119\n",
       "Y   -0.134841\n",
       "Z    0.390528\n",
       "Name: A, dtype: float64"
      ]
     },
     "execution_count": 57,
     "metadata": {},
     "output_type": "execute_result"
    }
   ],
   "source": [
    "# Returns a series.\n",
    "\n",
    "df.loc['A']"
   ]
  },
  {
   "cell_type": "code",
   "execution_count": 58,
   "id": "9913f6c4-a721-4300-a5df-f3731a7f6b31",
   "metadata": {},
   "outputs": [
    {
     "data": {
      "text/plain": [
       "W    0.238127\n",
       "X    1.996652\n",
       "Y   -0.993263\n",
       "Z    0.196800\n",
       "Name: E, dtype: float64"
      ]
     },
     "execution_count": 58,
     "metadata": {},
     "output_type": "execute_result"
    }
   ],
   "source": [
    "df.loc['E']"
   ]
  },
  {
   "cell_type": "code",
   "execution_count": 59,
   "id": "dab83d07-f4f5-4842-9f8a-0afd5c2e1387",
   "metadata": {},
   "outputs": [
    {
     "data": {
      "text/plain": [
       "W    0.238127\n",
       "X    1.996652\n",
       "Y   -0.993263\n",
       "Z    0.196800\n",
       "Name: E, dtype: float64"
      ]
     },
     "execution_count": 59,
     "metadata": {},
     "output_type": "execute_result"
    }
   ],
   "source": [
    "df.iloc[4]"
   ]
  },
  {
   "cell_type": "markdown",
   "id": "c26f2f4c-622a-47ec-8a8e-d64065b9c27f",
   "metadata": {},
   "source": [
    "6. <u>**To get a multiple Rows back:**"
   ]
  },
  {
   "cell_type": "code",
   "execution_count": 61,
   "id": "a4f1e06f-c86a-4f62-bb0d-7dcef9cfb523",
   "metadata": {},
   "outputs": [
    {
     "data": {
      "text/html": [
       "<div>\n",
       "<style scoped>\n",
       "    .dataframe tbody tr th:only-of-type {\n",
       "        vertical-align: middle;\n",
       "    }\n",
       "\n",
       "    .dataframe tbody tr th {\n",
       "        vertical-align: top;\n",
       "    }\n",
       "\n",
       "    .dataframe thead th {\n",
       "        text-align: right;\n",
       "    }\n",
       "</style>\n",
       "<table border=\"1\" class=\"dataframe\">\n",
       "  <thead>\n",
       "    <tr style=\"text-align: right;\">\n",
       "      <th></th>\n",
       "      <th>W</th>\n",
       "      <th>X</th>\n",
       "      <th>Y</th>\n",
       "      <th>Z</th>\n",
       "    </tr>\n",
       "  </thead>\n",
       "  <tbody>\n",
       "    <tr>\n",
       "      <th>A</th>\n",
       "      <td>-1.706086</td>\n",
       "      <td>-1.159119</td>\n",
       "      <td>-0.134841</td>\n",
       "      <td>0.390528</td>\n",
       "    </tr>\n",
       "    <tr>\n",
       "      <th>B</th>\n",
       "      <td>0.166905</td>\n",
       "      <td>0.184502</td>\n",
       "      <td>0.807706</td>\n",
       "      <td>0.072960</td>\n",
       "    </tr>\n",
       "  </tbody>\n",
       "</table>\n",
       "</div>"
      ],
      "text/plain": [
       "          W         X         Y         Z\n",
       "A -1.706086 -1.159119 -0.134841  0.390528\n",
       "B  0.166905  0.184502  0.807706  0.072960"
      ]
     },
     "execution_count": 61,
     "metadata": {},
     "output_type": "execute_result"
    }
   ],
   "source": [
    "df.loc[['A', 'B']]"
   ]
  },
  {
   "cell_type": "code",
   "execution_count": 62,
   "id": "c41d9581-cf46-4136-972c-bdc371640be9",
   "metadata": {},
   "outputs": [
    {
     "data": {
      "text/html": [
       "<div>\n",
       "<style scoped>\n",
       "    .dataframe tbody tr th:only-of-type {\n",
       "        vertical-align: middle;\n",
       "    }\n",
       "\n",
       "    .dataframe tbody tr th {\n",
       "        vertical-align: top;\n",
       "    }\n",
       "\n",
       "    .dataframe thead th {\n",
       "        text-align: right;\n",
       "    }\n",
       "</style>\n",
       "<table border=\"1\" class=\"dataframe\">\n",
       "  <thead>\n",
       "    <tr style=\"text-align: right;\">\n",
       "      <th></th>\n",
       "      <th>W</th>\n",
       "      <th>X</th>\n",
       "      <th>Y</th>\n",
       "      <th>Z</th>\n",
       "    </tr>\n",
       "  </thead>\n",
       "  <tbody>\n",
       "    <tr>\n",
       "      <th>A</th>\n",
       "      <td>-1.706086</td>\n",
       "      <td>-1.159119</td>\n",
       "      <td>-0.134841</td>\n",
       "      <td>0.390528</td>\n",
       "    </tr>\n",
       "    <tr>\n",
       "      <th>B</th>\n",
       "      <td>0.166905</td>\n",
       "      <td>0.184502</td>\n",
       "      <td>0.807706</td>\n",
       "      <td>0.072960</td>\n",
       "    </tr>\n",
       "  </tbody>\n",
       "</table>\n",
       "</div>"
      ],
      "text/plain": [
       "          W         X         Y         Z\n",
       "A -1.706086 -1.159119 -0.134841  0.390528\n",
       "B  0.166905  0.184502  0.807706  0.072960"
      ]
     },
     "execution_count": 62,
     "metadata": {},
     "output_type": "execute_result"
    }
   ],
   "source": [
    "df.iloc[[0, 1]]"
   ]
  },
  {
   "cell_type": "markdown",
   "id": "3a9ce76e-bb33-4d1e-be9e-a330998814cc",
   "metadata": {},
   "source": [
    "7. <u>**Selecting subset of rows and columns**\n",
    "\n",
    "    - Syntax:\n",
    "\n",
    "            df.loc[row, column] ---> similar to shape\n",
    "            df.iloc[row, column]"
   ]
  },
  {
   "cell_type": "code",
   "execution_count": 64,
   "id": "3afb515f-62d2-48c1-b041-08eeb03cbcf6",
   "metadata": {},
   "outputs": [
    {
     "data": {
      "text/html": [
       "<div>\n",
       "<style scoped>\n",
       "    .dataframe tbody tr th:only-of-type {\n",
       "        vertical-align: middle;\n",
       "    }\n",
       "\n",
       "    .dataframe tbody tr th {\n",
       "        vertical-align: top;\n",
       "    }\n",
       "\n",
       "    .dataframe thead th {\n",
       "        text-align: right;\n",
       "    }\n",
       "</style>\n",
       "<table border=\"1\" class=\"dataframe\">\n",
       "  <thead>\n",
       "    <tr style=\"text-align: right;\">\n",
       "      <th></th>\n",
       "      <th>W</th>\n",
       "      <th>X</th>\n",
       "      <th>Y</th>\n",
       "      <th>Z</th>\n",
       "    </tr>\n",
       "  </thead>\n",
       "  <tbody>\n",
       "    <tr>\n",
       "      <th>A</th>\n",
       "      <td>-1.706086</td>\n",
       "      <td>-1.159119</td>\n",
       "      <td>-0.134841</td>\n",
       "      <td>0.390528</td>\n",
       "    </tr>\n",
       "    <tr>\n",
       "      <th>B</th>\n",
       "      <td>0.166905</td>\n",
       "      <td>0.184502</td>\n",
       "      <td>0.807706</td>\n",
       "      <td>0.072960</td>\n",
       "    </tr>\n",
       "    <tr>\n",
       "      <th>C</th>\n",
       "      <td>0.638787</td>\n",
       "      <td>0.329646</td>\n",
       "      <td>-0.497104</td>\n",
       "      <td>-0.754070</td>\n",
       "    </tr>\n",
       "    <tr>\n",
       "      <th>D</th>\n",
       "      <td>-0.943406</td>\n",
       "      <td>0.484752</td>\n",
       "      <td>-0.116773</td>\n",
       "      <td>1.901755</td>\n",
       "    </tr>\n",
       "    <tr>\n",
       "      <th>E</th>\n",
       "      <td>0.238127</td>\n",
       "      <td>1.996652</td>\n",
       "      <td>-0.993263</td>\n",
       "      <td>0.196800</td>\n",
       "    </tr>\n",
       "  </tbody>\n",
       "</table>\n",
       "</div>"
      ],
      "text/plain": [
       "          W         X         Y         Z\n",
       "A -1.706086 -1.159119 -0.134841  0.390528\n",
       "B  0.166905  0.184502  0.807706  0.072960\n",
       "C  0.638787  0.329646 -0.497104 -0.754070\n",
       "D -0.943406  0.484752 -0.116773  1.901755\n",
       "E  0.238127  1.996652 -0.993263  0.196800"
      ]
     },
     "execution_count": 64,
     "metadata": {},
     "output_type": "execute_result"
    }
   ],
   "source": [
    "df"
   ]
  },
  {
   "cell_type": "code",
   "execution_count": 65,
   "id": "74d6ea04-6bac-4eb7-902a-59dd7fd3b961",
   "metadata": {},
   "outputs": [
    {
     "data": {
      "text/plain": [
       "0.8077059142577141"
      ]
     },
     "execution_count": 65,
     "metadata": {},
     "output_type": "execute_result"
    }
   ],
   "source": [
    "# Returns a single value.\n",
    "\n",
    "df.loc['B', 'Y']"
   ]
  },
  {
   "cell_type": "code",
   "execution_count": 66,
   "id": "4dfdac77-198e-40a8-99d6-a7621c40da60",
   "metadata": {},
   "outputs": [
    {
     "data": {
      "text/plain": [
       "0.8077059142577141"
      ]
     },
     "execution_count": 66,
     "metadata": {},
     "output_type": "execute_result"
    }
   ],
   "source": [
    "df.iloc[1, 2]"
   ]
  },
  {
   "cell_type": "markdown",
   "id": "930d2f67-58fe-40b0-8f74-18f3905d7f51",
   "metadata": {},
   "source": [
    "Get the subset of 'A' and 'B' rows with the 'W' and 'Y' columns:"
   ]
  },
  {
   "cell_type": "code",
   "execution_count": 68,
   "id": "0f232dd8-1ad9-4044-862c-9ba09f6aebfc",
   "metadata": {},
   "outputs": [
    {
     "data": {
      "text/html": [
       "<div>\n",
       "<style scoped>\n",
       "    .dataframe tbody tr th:only-of-type {\n",
       "        vertical-align: middle;\n",
       "    }\n",
       "\n",
       "    .dataframe tbody tr th {\n",
       "        vertical-align: top;\n",
       "    }\n",
       "\n",
       "    .dataframe thead th {\n",
       "        text-align: right;\n",
       "    }\n",
       "</style>\n",
       "<table border=\"1\" class=\"dataframe\">\n",
       "  <thead>\n",
       "    <tr style=\"text-align: right;\">\n",
       "      <th></th>\n",
       "      <th>W</th>\n",
       "      <th>Y</th>\n",
       "    </tr>\n",
       "  </thead>\n",
       "  <tbody>\n",
       "    <tr>\n",
       "      <th>A</th>\n",
       "      <td>-1.706086</td>\n",
       "      <td>-0.134841</td>\n",
       "    </tr>\n",
       "    <tr>\n",
       "      <th>B</th>\n",
       "      <td>0.166905</td>\n",
       "      <td>0.807706</td>\n",
       "    </tr>\n",
       "  </tbody>\n",
       "</table>\n",
       "</div>"
      ],
      "text/plain": [
       "          W         Y\n",
       "A -1.706086 -0.134841\n",
       "B  0.166905  0.807706"
      ]
     },
     "execution_count": 68,
     "metadata": {},
     "output_type": "execute_result"
    }
   ],
   "source": [
    "df.loc[['A', 'B'], ['W', 'Y']]"
   ]
  },
  {
   "cell_type": "code",
   "execution_count": 69,
   "id": "134725cd-cf36-4a6f-9db0-c873c3ed1e31",
   "metadata": {},
   "outputs": [
    {
     "data": {
      "text/html": [
       "<div>\n",
       "<style scoped>\n",
       "    .dataframe tbody tr th:only-of-type {\n",
       "        vertical-align: middle;\n",
       "    }\n",
       "\n",
       "    .dataframe tbody tr th {\n",
       "        vertical-align: top;\n",
       "    }\n",
       "\n",
       "    .dataframe thead th {\n",
       "        text-align: right;\n",
       "    }\n",
       "</style>\n",
       "<table border=\"1\" class=\"dataframe\">\n",
       "  <thead>\n",
       "    <tr style=\"text-align: right;\">\n",
       "      <th></th>\n",
       "      <th>W</th>\n",
       "      <th>Y</th>\n",
       "    </tr>\n",
       "  </thead>\n",
       "  <tbody>\n",
       "    <tr>\n",
       "      <th>A</th>\n",
       "      <td>-1.706086</td>\n",
       "      <td>-0.134841</td>\n",
       "    </tr>\n",
       "    <tr>\n",
       "      <th>B</th>\n",
       "      <td>0.166905</td>\n",
       "      <td>0.807706</td>\n",
       "    </tr>\n",
       "  </tbody>\n",
       "</table>\n",
       "</div>"
      ],
      "text/plain": [
       "          W         Y\n",
       "A -1.706086 -0.134841\n",
       "B  0.166905  0.807706"
      ]
     },
     "execution_count": 69,
     "metadata": {},
     "output_type": "execute_result"
    }
   ],
   "source": [
    "df.iloc[[0, 1], [0, 2]]"
   ]
  },
  {
   "cell_type": "markdown",
   "id": "c8829dc7-cbe8-4980-adb1-c06f5bf5ad78",
   "metadata": {},
   "source": [
    "---"
   ]
  }
 ],
 "metadata": {
  "kernelspec": {
   "display_name": "Python 3 (ipykernel)",
   "language": "python",
   "name": "python3"
  },
  "language_info": {
   "codemirror_mode": {
    "name": "ipython",
    "version": 3
   },
   "file_extension": ".py",
   "mimetype": "text/x-python",
   "name": "python",
   "nbconvert_exporter": "python",
   "pygments_lexer": "ipython3",
   "version": "3.12.4"
  }
 },
 "nbformat": 4,
 "nbformat_minor": 5
}
